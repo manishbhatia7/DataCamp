{
 "cells": [
  {
   "cell_type": "code",
   "id": "initial_id",
   "metadata": {
    "collapsed": true,
    "ExecuteTime": {
     "end_time": "2024-10-24T08:27:45.652718Z",
     "start_time": "2024-10-24T08:27:45.638737Z"
    }
   },
   "source": [
    "import pandas as pd\n",
    "import matplotlib.pyplot as plt\n",
    "from sklearn.cluster import KMeans\n",
    "from sklearn.preprocessing import StandardScaler\n",
    "%matplotlib inline\n",
    "import warnings\n",
    "warnings.filterwarnings('ignore')\n"
   ],
   "outputs": [],
   "execution_count": 191
  },
  {
   "metadata": {
    "ExecuteTime": {
     "end_time": "2024-10-24T08:27:45.677631Z",
     "start_time": "2024-10-24T08:27:45.668041Z"
    }
   },
   "cell_type": "code",
   "source": "penguins_df=pd.read_csv('penguins.csv')",
   "id": "a4efc198fd76e1c4",
   "outputs": [],
   "execution_count": 192
  },
  {
   "metadata": {
    "ExecuteTime": {
     "end_time": "2024-10-24T08:27:45.780831Z",
     "start_time": "2024-10-24T08:27:45.771375Z"
    }
   },
   "cell_type": "code",
   "source": "penguins_df.shape",
   "id": "7ba9eed852e5a5bb",
   "outputs": [
    {
     "data": {
      "text/plain": [
       "(344, 5)"
      ]
     },
     "execution_count": 193,
     "metadata": {},
     "output_type": "execute_result"
    }
   ],
   "execution_count": 193
  },
  {
   "metadata": {
    "ExecuteTime": {
     "end_time": "2024-10-24T08:27:45.943202Z",
     "start_time": "2024-10-24T08:27:45.903844Z"
    }
   },
   "cell_type": "code",
   "source": "penguins_df.head()",
   "id": "5fd6c4a749f33526",
   "outputs": [
    {
     "data": {
      "text/plain": [
       "   culmen_length_mm  culmen_depth_mm  flipper_length_mm  body_mass_g     sex\n",
       "0              39.1             18.7              181.0       3750.0    MALE\n",
       "1              39.5             17.4              186.0       3800.0  FEMALE\n",
       "2              40.3             18.0              195.0       3250.0  FEMALE\n",
       "3               NaN              NaN                NaN          NaN     NaN\n",
       "4              36.7             19.3              193.0       3450.0  FEMALE"
      ],
      "text/html": [
       "<div>\n",
       "<style scoped>\n",
       "    .dataframe tbody tr th:only-of-type {\n",
       "        vertical-align: middle;\n",
       "    }\n",
       "\n",
       "    .dataframe tbody tr th {\n",
       "        vertical-align: top;\n",
       "    }\n",
       "\n",
       "    .dataframe thead th {\n",
       "        text-align: right;\n",
       "    }\n",
       "</style>\n",
       "<table border=\"1\" class=\"dataframe\">\n",
       "  <thead>\n",
       "    <tr style=\"text-align: right;\">\n",
       "      <th></th>\n",
       "      <th>culmen_length_mm</th>\n",
       "      <th>culmen_depth_mm</th>\n",
       "      <th>flipper_length_mm</th>\n",
       "      <th>body_mass_g</th>\n",
       "      <th>sex</th>\n",
       "    </tr>\n",
       "  </thead>\n",
       "  <tbody>\n",
       "    <tr>\n",
       "      <th>0</th>\n",
       "      <td>39.1</td>\n",
       "      <td>18.7</td>\n",
       "      <td>181.0</td>\n",
       "      <td>3750.0</td>\n",
       "      <td>MALE</td>\n",
       "    </tr>\n",
       "    <tr>\n",
       "      <th>1</th>\n",
       "      <td>39.5</td>\n",
       "      <td>17.4</td>\n",
       "      <td>186.0</td>\n",
       "      <td>3800.0</td>\n",
       "      <td>FEMALE</td>\n",
       "    </tr>\n",
       "    <tr>\n",
       "      <th>2</th>\n",
       "      <td>40.3</td>\n",
       "      <td>18.0</td>\n",
       "      <td>195.0</td>\n",
       "      <td>3250.0</td>\n",
       "      <td>FEMALE</td>\n",
       "    </tr>\n",
       "    <tr>\n",
       "      <th>3</th>\n",
       "      <td>NaN</td>\n",
       "      <td>NaN</td>\n",
       "      <td>NaN</td>\n",
       "      <td>NaN</td>\n",
       "      <td>NaN</td>\n",
       "    </tr>\n",
       "    <tr>\n",
       "      <th>4</th>\n",
       "      <td>36.7</td>\n",
       "      <td>19.3</td>\n",
       "      <td>193.0</td>\n",
       "      <td>3450.0</td>\n",
       "      <td>FEMALE</td>\n",
       "    </tr>\n",
       "  </tbody>\n",
       "</table>\n",
       "</div>"
      ]
     },
     "execution_count": 194,
     "metadata": {},
     "output_type": "execute_result"
    }
   ],
   "execution_count": 194
  },
  {
   "metadata": {
    "ExecuteTime": {
     "end_time": "2024-10-24T08:27:46.160509Z",
     "start_time": "2024-10-24T08:27:46.138123Z"
    }
   },
   "cell_type": "code",
   "source": "penguins_df.isnull().sum()",
   "id": "16d64a09d90c279b",
   "outputs": [
    {
     "data": {
      "text/plain": [
       "culmen_length_mm     2\n",
       "culmen_depth_mm      2\n",
       "flipper_length_mm    2\n",
       "body_mass_g          2\n",
       "sex                  9\n",
       "dtype: int64"
      ]
     },
     "execution_count": 195,
     "metadata": {},
     "output_type": "execute_result"
    }
   ],
   "execution_count": 195
  },
  {
   "metadata": {
    "ExecuteTime": {
     "end_time": "2024-10-24T08:27:46.368159Z",
     "start_time": "2024-10-24T08:27:46.356797Z"
    }
   },
   "cell_type": "code",
   "source": "penguins_df=penguins_df.dropna()",
   "id": "5d550f20a13e271d",
   "outputs": [],
   "execution_count": 196
  },
  {
   "metadata": {
    "ExecuteTime": {
     "end_time": "2024-10-24T08:27:46.551225Z",
     "start_time": "2024-10-24T08:27:46.532464Z"
    }
   },
   "cell_type": "code",
   "source": "penguins_df.shape",
   "id": "a6093963df8ed76a",
   "outputs": [
    {
     "data": {
      "text/plain": [
       "(335, 5)"
      ]
     },
     "execution_count": 197,
     "metadata": {},
     "output_type": "execute_result"
    }
   ],
   "execution_count": 197
  },
  {
   "metadata": {
    "ExecuteTime": {
     "end_time": "2024-10-24T08:27:46.987012Z",
     "start_time": "2024-10-24T08:27:46.659492Z"
    }
   },
   "cell_type": "code",
   "source": [
    "penguins_df.boxplot()\n",
    "plt.show()"
   ],
   "id": "f923455e85e1a625",
   "outputs": [
    {
     "data": {
      "text/plain": [
       "<Figure size 640x480 with 1 Axes>"
      ],
      "image/png": "[encoded data removed]"
     },
     "metadata": {},
     "output_type": "display_data"
    }
   ],
   "execution_count": 198
  },
  {
   "metadata": {
    "ExecuteTime": {
     "end_time": "2024-10-24T08:27:47.195839Z",
     "start_time": "2024-10-24T08:27:47.154428Z"
    }
   },
   "cell_type": "code",
   "source": [
    "print(penguins_df[penguins_df['flipper_length_mm']>4000])\n",
    "print(penguins_df[penguins_df['flipper_length_mm']<0])"
   ],
   "id": "9e9277416662f2ba",
   "outputs": [
    {
     "name": "stdout",
     "output_type": "stream",
     "text": [
      "   culmen_length_mm  culmen_depth_mm  flipper_length_mm  body_mass_g   sex\n",
      "9              42.0             20.2             5000.0       4250.0  MALE\n",
      "    culmen_length_mm  culmen_depth_mm  flipper_length_mm  body_mass_g   sex\n",
      "14              34.6             21.1             -132.0       4400.0  MALE\n"
     ]
    }
   ],
   "execution_count": 199
  },
  {
   "metadata": {
    "ExecuteTime": {
     "end_time": "2024-10-24T08:27:47.291054Z",
     "start_time": "2024-10-24T08:27:47.272561Z"
    }
   },
   "cell_type": "code",
   "source": "penguins_df_clean=penguins_df.drop([9,14])",
   "id": "fdd0a72a01b728d8",
   "outputs": [],
   "execution_count": 200
  },
  {
   "metadata": {
    "ExecuteTime": {
     "end_time": "2024-10-24T08:27:47.594165Z",
     "start_time": "2024-10-24T08:27:47.574237Z"
    }
   },
   "cell_type": "code",
   "source": "penguins_df=pd.get_dummies(penguins_df_clean,dtype='int')",
   "id": "a62bed79a951fa14",
   "outputs": [],
   "execution_count": 201
  },
  {
   "metadata": {
    "ExecuteTime": {
     "end_time": "2024-10-24T08:27:47.837602Z",
     "start_time": "2024-10-24T08:27:47.819888Z"
    }
   },
   "cell_type": "code",
   "source": "penguins_df.columns",
   "id": "5c6facc67c71b25f",
   "outputs": [
    {
     "data": {
      "text/plain": [
       "Index(['culmen_length_mm', 'culmen_depth_mm', 'flipper_length_mm',\n",
       "       'body_mass_g', 'sex_.', 'sex_FEMALE', 'sex_MALE'],\n",
       "      dtype='object')"
      ]
     },
     "execution_count": 202,
     "metadata": {},
     "output_type": "execute_result"
    }
   ],
   "execution_count": 202
  },
  {
   "metadata": {
    "ExecuteTime": {
     "end_time": "2024-10-24T08:27:48.059852Z",
     "start_time": "2024-10-24T08:27:48.039750Z"
    }
   },
   "cell_type": "code",
   "source": "penguins_df=penguins_df.drop('sex_.',axis=1)",
   "id": "7d480e6085308366",
   "outputs": [],
   "execution_count": 203
  },
  {
   "metadata": {
    "ExecuteTime": {
     "end_time": "2024-10-24T08:27:48.220842Z",
     "start_time": "2024-10-24T08:27:48.173613Z"
    }
   },
   "cell_type": "code",
   "source": "penguins_df.head()",
   "id": "ab68cc28b863c94c",
   "outputs": [
    {
     "data": {
      "text/plain": [
       "   culmen_length_mm  culmen_depth_mm  flipper_length_mm  body_mass_g  \\\n",
       "0              39.1             18.7              181.0       3750.0   \n",
       "1              39.5             17.4              186.0       3800.0   \n",
       "2              40.3             18.0              195.0       3250.0   \n",
       "4              36.7             19.3              193.0       3450.0   \n",
       "5              39.3             20.6              190.0       3650.0   \n",
       "\n",
       "   sex_FEMALE  sex_MALE  \n",
       "0           0         1  \n",
       "1           1         0  \n",
       "2           1         0  \n",
       "4           1         0  \n",
       "5           0         1  "
      ],
      "text/html": [
       "<div>\n",
       "<style scoped>\n",
       "    .dataframe tbody tr th:only-of-type {\n",
       "        vertical-align: middle;\n",
       "    }\n",
       "\n",
       "    .dataframe tbody tr th {\n",
       "        vertical-align: top;\n",
       "    }\n",
       "\n",
       "    .dataframe thead th {\n",
       "        text-align: right;\n",
       "    }\n",
       "</style>\n",
       "<table border=\"1\" class=\"dataframe\">\n",
       "  <thead>\n",
       "    <tr style=\"text-align: right;\">\n",
       "      <th></th>\n",
       "      <th>culmen_length_mm</th>\n",
       "      <th>culmen_depth_mm</th>\n",
       "      <th>flipper_length_mm</th>\n",
       "      <th>body_mass_g</th>\n",
       "      <th>sex_FEMALE</th>\n",
       "      <th>sex_MALE</th>\n",
       "    </tr>\n",
       "  </thead>\n",
       "  <tbody>\n",
       "    <tr>\n",
       "      <th>0</th>\n",
       "      <td>39.1</td>\n",
       "      <td>18.7</td>\n",
       "      <td>181.0</td>\n",
       "      <td>3750.0</td>\n",
       "      <td>0</td>\n",
       "      <td>1</td>\n",
       "    </tr>\n",
       "    <tr>\n",
       "      <th>1</th>\n",
       "      <td>39.5</td>\n",
       "      <td>17.4</td>\n",
       "      <td>186.0</td>\n",
       "      <td>3800.0</td>\n",
       "      <td>1</td>\n",
       "      <td>0</td>\n",
       "    </tr>\n",
       "    <tr>\n",
       "      <th>2</th>\n",
       "      <td>40.3</td>\n",
       "      <td>18.0</td>\n",
       "      <td>195.0</td>\n",
       "      <td>3250.0</td>\n",
       "      <td>1</td>\n",
       "      <td>0</td>\n",
       "    </tr>\n",
       "    <tr>\n",
       "      <th>4</th>\n",
       "      <td>36.7</td>\n",
       "      <td>19.3</td>\n",
       "      <td>193.0</td>\n",
       "      <td>3450.0</td>\n",
       "      <td>1</td>\n",
       "      <td>0</td>\n",
       "    </tr>\n",
       "    <tr>\n",
       "      <th>5</th>\n",
       "      <td>39.3</td>\n",
       "      <td>20.6</td>\n",
       "      <td>190.0</td>\n",
       "      <td>3650.0</td>\n",
       "      <td>0</td>\n",
       "      <td>1</td>\n",
       "    </tr>\n",
       "  </tbody>\n",
       "</table>\n",
       "</div>"
      ]
     },
     "execution_count": 204,
     "metadata": {},
     "output_type": "execute_result"
    }
   ],
   "execution_count": 204
  },
  {
   "metadata": {
    "ExecuteTime": {
     "end_time": "2024-10-24T08:27:48.513588Z",
     "start_time": "2024-10-24T08:27:48.478248Z"
    }
   },
   "cell_type": "code",
   "source": [
    "scaler=StandardScaler()\n",
    "X=scaler.fit_transform(penguins_df)\n",
    "penguins_preprocessed=pd.DataFrame(data=X,columns=penguins_df.columns)"
   ],
   "id": "63288ba4c9732f68",
   "outputs": [],
   "execution_count": 205
  },
  {
   "metadata": {
    "ExecuteTime": {
     "end_time": "2024-10-24T08:27:48.779635Z",
     "start_time": "2024-10-24T08:27:48.729181Z"
    }
   },
   "cell_type": "code",
   "source": "penguins_preprocessed",
   "id": "54c0d01c2834a6b7",
   "outputs": [
    {
     "data": {
      "text/plain": [
       "     culmen_length_mm  culmen_depth_mm  flipper_length_mm  body_mass_g  \\\n",
       "0           -0.905520         0.793126          -1.428125    -0.569709   \n",
       "1           -0.831938         0.128503          -1.071522    -0.507579   \n",
       "2           -0.684775         0.435252          -0.429637    -1.191006   \n",
       "3           -1.347011         1.099875          -0.572278    -0.942487   \n",
       "4           -0.868729         1.764498          -0.786240    -0.693968   \n",
       "..                ...              ...                ...          ...   \n",
       "328          0.584511        -1.763116           0.925454     0.890339   \n",
       "329          0.510929        -1.456367           0.996775     0.797145   \n",
       "330          1.173166        -0.740619           1.496019     1.915480   \n",
       "331          0.216602        -1.200743           0.782813     1.232053   \n",
       "332          1.081188        -0.536120           0.854134     1.480572   \n",
       "\n",
       "     sex_FEMALE  sex_MALE  \n",
       "0     -0.991031  0.997001  \n",
       "1      1.009050 -1.003008  \n",
       "2      1.009050 -1.003008  \n",
       "3      1.009050 -1.003008  \n",
       "4     -0.991031  0.997001  \n",
       "..          ...       ...  \n",
       "328    1.009050 -1.003008  \n",
       "329    1.009050 -1.003008  \n",
       "330   -0.991031  0.997001  \n",
       "331    1.009050 -1.003008  \n",
       "332   -0.991031  0.997001  \n",
       "\n",
       "[333 rows x 6 columns]"
      ],
      "text/html": [
       "<div>\n",
       "<style scoped>\n",
       "    .dataframe tbody tr th:only-of-type {\n",
       "        vertical-align: middle;\n",
       "    }\n",
       "\n",
       "    .dataframe tbody tr th {\n",
       "        vertical-align: top;\n",
       "    }\n",
       "\n",
       "    .dataframe thead th {\n",
       "        text-align: right;\n",
       "    }\n",
       "</style>\n",
       "<table border=\"1\" class=\"dataframe\">\n",
       "  <thead>\n",
       "    <tr style=\"text-align: right;\">\n",
       "      <th></th>\n",
       "      <th>culmen_length_mm</th>\n",
       "      <th>culmen_depth_mm</th>\n",
       "      <th>flipper_length_mm</th>\n",
       "      <th>body_mass_g</th>\n",
       "      <th>sex_FEMALE</th>\n",
       "      <th>sex_MALE</th>\n",
       "    </tr>\n",
       "  </thead>\n",
       "  <tbody>\n",
       "    <tr>\n",
       "      <th>0</th>\n",
       "      <td>-0.905520</td>\n",
       "      <td>0.793126</td>\n",
       "      <td>-1.428125</td>\n",
       "      <td>-0.569709</td>\n",
       "      <td>-0.991031</td>\n",
       "      <td>0.997001</td>\n",
       "    </tr>\n",
       "    <tr>\n",
       "      <th>1</th>\n",
       "      <td>-0.831938</td>\n",
       "      <td>0.128503</td>\n",
       "      <td>-1.071522</td>\n",
       "      <td>-0.507579</td>\n",
       "      <td>1.009050</td>\n",
       "      <td>-1.003008</td>\n",
       "    </tr>\n",
       "    <tr>\n",
       "      <th>2</th>\n",
       "      <td>-0.684775</td>\n",
       "      <td>0.435252</td>\n",
       "      <td>-0.429637</td>\n",
       "      <td>-1.191006</td>\n",
       "      <td>1.009050</td>\n",
       "      <td>-1.003008</td>\n",
       "    </tr>\n",
       "    <tr>\n",
       "      <th>3</th>\n",
       "      <td>-1.347011</td>\n",
       "      <td>1.099875</td>\n",
       "      <td>-0.572278</td>\n",
       "      <td>-0.942487</td>\n",
       "      <td>1.009050</td>\n",
       "      <td>-1.003008</td>\n",
       "    </tr>\n",
       "    <tr>\n",
       "      <th>4</th>\n",
       "      <td>-0.868729</td>\n",
       "      <td>1.764498</td>\n",
       "      <td>-0.786240</td>\n",
       "      <td>-0.693968</td>\n",
       "      <td>-0.991031</td>\n",
       "      <td>0.997001</td>\n",
       "    </tr>\n",
       "    <tr>\n",
       "      <th>...</th>\n",
       "      <td>...</td>\n",
       "      <td>...</td>\n",
       "      <td>...</td>\n",
       "      <td>...</td>\n",
       "      <td>...</td>\n",
       "      <td>...</td>\n",
       "    </tr>\n",
       "    <tr>\n",
       "      <th>328</th>\n",
       "      <td>0.584511</td>\n",
       "      <td>-1.763116</td>\n",
       "      <td>0.925454</td>\n",
       "      <td>0.890339</td>\n",
       "      <td>1.009050</td>\n",
       "      <td>-1.003008</td>\n",
       "    </tr>\n",
       "    <tr>\n",
       "      <th>329</th>\n",
       "      <td>0.510929</td>\n",
       "      <td>-1.456367</td>\n",
       "      <td>0.996775</td>\n",
       "      <td>0.797145</td>\n",
       "      <td>1.009050</td>\n",
       "      <td>-1.003008</td>\n",
       "    </tr>\n",
       "    <tr>\n",
       "      <th>330</th>\n",
       "      <td>1.173166</td>\n",
       "      <td>-0.740619</td>\n",
       "      <td>1.496019</td>\n",
       "      <td>1.915480</td>\n",
       "      <td>-0.991031</td>\n",
       "      <td>0.997001</td>\n",
       "    </tr>\n",
       "    <tr>\n",
       "      <th>331</th>\n",
       "      <td>0.216602</td>\n",
       "      <td>-1.200743</td>\n",
       "      <td>0.782813</td>\n",
       "      <td>1.232053</td>\n",
       "      <td>1.009050</td>\n",
       "      <td>-1.003008</td>\n",
       "    </tr>\n",
       "    <tr>\n",
       "      <th>332</th>\n",
       "      <td>1.081188</td>\n",
       "      <td>-0.536120</td>\n",
       "      <td>0.854134</td>\n",
       "      <td>1.480572</td>\n",
       "      <td>-0.991031</td>\n",
       "      <td>0.997001</td>\n",
       "    </tr>\n",
       "  </tbody>\n",
       "</table>\n",
       "<p>333 rows × 6 columns</p>\n",
       "</div>"
      ]
     },
     "execution_count": 206,
     "metadata": {},
     "output_type": "execute_result"
    }
   ],
   "execution_count": 206
  },
  {
   "metadata": {
    "ExecuteTime": {
     "end_time": "2024-10-24T08:27:51.798842Z",
     "start_time": "2024-10-24T08:27:48.950548Z"
    }
   },
   "cell_type": "code",
   "source": [
    "inertia = []\n",
    "for k in range(1, 10):\n",
    "    kmeans = KMeans(n_clusters=k, random_state=42).fit(penguins_preprocessed)\n",
    "    inertia.append(kmeans.inertia_)    \n",
    "plt.plot(range(1, 10), inertia, marker='o')\n",
    "plt.xlabel('Number of clusters')\n",
    "plt.ylabel('Inertia')\n",
    "plt.title('Elbow Method')\n",
    "plt.show()"
   ],
   "id": "7564cc5acb3772d1",
   "outputs": [
    {
     "data": {
      "text/plain": [
       "<Figure size 640x480 with 1 Axes>"
      ],
      "image/png": "[encoded data removed]"
     },
     "metadata": {},
     "output_type": "display_data"
    }
   ],
   "execution_count": 207
  },
  {
   "metadata": {
    "ExecuteTime": {
     "end_time": "2024-10-24T08:27:52.201629Z",
     "start_time": "2024-10-24T08:27:51.891860Z"
    }
   },
   "cell_type": "code",
   "source": [
    "n_clusters=4\n",
    "kmeans=KMeans(n_clusters=n_clusters, random_state=42).fit(penguins_preprocessed)"
   ],
   "id": "f40aec7cfc208529",
   "outputs": [],
   "execution_count": 208
  },
  {
   "metadata": {
    "ExecuteTime": {
     "end_time": "2024-10-24T08:27:52.239157Z",
     "start_time": "2024-10-24T08:27:52.221640Z"
    }
   },
   "cell_type": "code",
   "source": "penguins_df['label'] = kmeans.labels_",
   "id": "90a03e5333f65b05",
   "outputs": [],
   "execution_count": 209
  },
  {
   "metadata": {
    "ExecuteTime": {
     "end_time": "2024-10-24T08:27:52.635004Z",
     "start_time": "2024-10-24T08:27:52.313030Z"
    }
   },
   "cell_type": "code",
   "source": [
    "plt.scatter(penguins_df['label'], penguins_df['culmen_length_mm'],c=kmeans.labels_,cmap='viridis')\n",
    "plt.xlabel('Cluster')\n",
    "plt.ylabel('culmen_length_mm')\n",
    "plt.xticks(range(int(penguins_df['label'].min()), int(penguins_df['label'].max()) + 1))\n",
    "plt.title(f'K-means Clustering (K={n_clusters})')\n",
    "plt.show()"
   ],
   "id": "adcd004926f443ab",
   "outputs": [
    {
     "data": {
      "text/plain": [
       "<Figure size 640x480 with 1 Axes>"
      ],
      "image/png": "[encoded data removed]"
     },
     "metadata": {},
     "output_type": "display_data"
    }
   ],
   "execution_count": 210
  },
  {
   "metadata": {
    "ExecuteTime": {
     "end_time": "2024-10-24T08:27:52.791721Z",
     "start_time": "2024-10-24T08:27:52.749951Z"
    }
   },
   "cell_type": "code",
   "source": [
    "numeric_columns=['culmen_length_mm','culmen_depth_mm','flipper_length_mm','label']\n",
    "stat_penguins=penguins_df[numeric_columns].groupby('label').mean()\n",
    "stat_penguins"
   ],
   "id": "5121c13422ed7f95",
   "outputs": [
    {
     "data": {
      "text/plain": [
       "       culmen_length_mm  culmen_depth_mm  flipper_length_mm\n",
       "label                                                      \n",
       "0             43.878302        19.111321         194.764151\n",
       "1             49.473770        15.718033         221.540984\n",
       "2             40.217757        17.611215         189.046729\n",
       "3             45.545763        14.262712         212.779661"
      ],
      "text/html": [
       "<div>\n",
       "<style scoped>\n",
       "    .dataframe tbody tr th:only-of-type {\n",
       "        vertical-align: middle;\n",
       "    }\n",
       "\n",
       "    .dataframe tbody tr th {\n",
       "        vertical-align: top;\n",
       "    }\n",
       "\n",
       "    .dataframe thead th {\n",
       "        text-align: right;\n",
       "    }\n",
       "</style>\n",
       "<table border=\"1\" class=\"dataframe\">\n",
       "  <thead>\n",
       "    <tr style=\"text-align: right;\">\n",
       "      <th></th>\n",
       "      <th>culmen_length_mm</th>\n",
       "      <th>culmen_depth_mm</th>\n",
       "      <th>flipper_length_mm</th>\n",
       "    </tr>\n",
       "    <tr>\n",
       "      <th>label</th>\n",
       "      <th></th>\n",
       "      <th></th>\n",
       "      <th></th>\n",
       "    </tr>\n",
       "  </thead>\n",
       "  <tbody>\n",
       "    <tr>\n",
       "      <th>0</th>\n",
       "      <td>43.878302</td>\n",
       "      <td>19.111321</td>\n",
       "      <td>194.764151</td>\n",
       "    </tr>\n",
       "    <tr>\n",
       "      <th>1</th>\n",
       "      <td>49.473770</td>\n",
       "      <td>15.718033</td>\n",
       "      <td>221.540984</td>\n",
       "    </tr>\n",
       "    <tr>\n",
       "      <th>2</th>\n",
       "      <td>40.217757</td>\n",
       "      <td>17.611215</td>\n",
       "      <td>189.046729</td>\n",
       "    </tr>\n",
       "    <tr>\n",
       "      <th>3</th>\n",
       "      <td>45.545763</td>\n",
       "      <td>14.262712</td>\n",
       "      <td>212.779661</td>\n",
       "    </tr>\n",
       "  </tbody>\n",
       "</table>\n",
       "</div>"
      ]
     },
     "execution_count": 211,
     "metadata": {},
     "output_type": "execute_result"
    }
   ],
   "execution_count": 211
  }
 ],
 "metadata": {
  "kernelspec": {
   "display_name": "Python 3",
   "language": "python",
   "name": "python3"
  },
  "language_info": {
   "codemirror_mode": {
    "name": "ipython",
    "version": 2
   },
   "file_extension": ".py",
   "mimetype": "text/x-python",
   "name": "python",
   "nbconvert_exporter": "python",
   "pygments_lexer": "ipython2",
   "version": "2.7.6"
  }
 },
 "nbformat": 4,
 "nbformat_minor": 5
}
